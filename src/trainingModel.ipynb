{
 "cells": [
  {
   "cell_type": "code",
   "execution_count": null,
   "metadata": {},
   "outputs": [],
   "source": [
    "from sklearn.model_selection import train_test_split\n",
    "import matplotlib\n",
    "%matplotlib inline\n",
    "import os\n",
    "import numpy as np\n",
    "import torch\n",
    "import fastai\n",
    "from fastai.tabular.all import *\n",
    "from fastai.text.all import *\n",
    "from fastai.vision.all import *\n",
    "from fastai.vision.data import ImageDataLoaders\n"
   ]
  },
  {
   "cell_type": "code",
   "execution_count": null,
   "metadata": {
    "vscode": {
     "languageId": "plaintext"
    }
   },
   "outputs": [],
   "source": [
    "np.random.seed(42)"
   ]
  },
  {
   "cell_type": "code",
   "execution_count": null,
   "metadata": {},
   "outputs": [],
   "source": [
    "tfms = aug_transforms(do_flip = True, flip_vert = False, max_rotate = 0, max_zoom = 1.1, max_lighting = 0.2, max_warp = 0.2, p_affine = 0.75, p_lighting = 0.75)"
   ]
  },
  {
   "cell_type": "code",
   "execution_count": null,
   "metadata": {},
   "outputs": [],
   "source": [
    "path = 'architectural-styles-dataset'"
   ]
  },
  {
   "cell_type": "code",
   "execution_count": null,
   "metadata": {},
   "outputs": [],
   "source": [
    "data = ImageDataLoaders.from_folder(\n",
    "    path,\n",
    "    train=\".\",\n",
    "    valid_pct=0.2,\n",
    "    item_tfms=Resize(224, method='pad', pad_mode='reflection'),  # Resize images to 224x224\n",
    "    batch_tfms=Normalize.from_stats(*imagenet_stats),  # Normalize using ImageNet stats\n",
    "    num_workers=4,\n",
    "    bs=64\n",
    ")\n"
   ]
  },
  {
   "cell_type": "code",
   "execution_count": null,
   "metadata": {},
   "outputs": [],
   "source": [
    "learn = cnn_learner(data, models.resnet50, metrics=[accuracy, error_rate], wd=1e-1)"
   ]
  },
  {
   "cell_type": "code",
   "execution_count": null,
   "metadata": {},
   "outputs": [],
   "source": [
    "learn.fit_one_cycle(6)"
   ]
  },
  {
   "cell_type": "code",
   "execution_count": null,
   "metadata": {},
   "outputs": [],
   "source": [
    "learn.save('stage-2-resnet50-6cycles')"
   ]
  }
 ],
 "metadata": {
  "language_info": {
   "name": "python"
  }
 },
 "nbformat": 4,
 "nbformat_minor": 2
}
